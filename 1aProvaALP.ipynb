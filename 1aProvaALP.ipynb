{
  "nbformat": 4,
  "nbformat_minor": 0,
  "metadata": {
    "colab": {
      "provenance": [],
      "authorship_tag": "ABX9TyOGTchpBHnTuYyAJ5kJv1D/",
      "include_colab_link": true
    },
    "kernelspec": {
      "name": "python3",
      "display_name": "Python 3"
    },
    "language_info": {
      "name": "python"
    }
  },
  "cells": [
    {
      "cell_type": "markdown",
      "metadata": {
        "id": "view-in-github",
        "colab_type": "text"
      },
      "source": [
        "<a href=\"https://colab.research.google.com/github/anactechn/RevisitandoPython/blob/main/1aProvaALP.ipynb\" target=\"_parent\"><img src=\"https://colab.research.google.com/assets/colab-badge.svg\" alt=\"Open In Colab\"/></a>"
      ]
    },
    {
      "cell_type": "code",
      "execution_count": 3,
      "metadata": {
        "colab": {
          "base_uri": "https://localhost:8080/"
        },
        "id": "tgMCPiVoj4Xk",
        "outputId": "626fcc87-51b4-4362-9887-746d94c41476"
      },
      "outputs": [
        {
          "output_type": "stream",
          "name": "stdout",
          "text": [
            "Digite um número inteiro: 0\n",
            "O número 0 é par.\n",
            "O número é zero.\n"
          ]
        }
      ],
      "source": [
        "#1\n",
        "\n",
        "numero = int(input(\"Digite um número inteiro: \"))\n",
        "\n",
        "if numero % 2 == 0:\n",
        "    print(f\"O número {numero} é par.\")\n",
        "else:\n",
        "    print(f\"O número {numero} é ímpar.\")\n",
        "\n",
        "if numero > 0:\n",
        "    print(f\"O número {numero} é positivo.\")\n",
        "elif numero < 0:\n",
        "    print(f\"O número {numero} é negativo.\")\n",
        "else:\n",
        "    print(\"O número é zero.\")"
      ]
    },
    {
      "cell_type": "code",
      "source": [
        "#2.Problema1\n",
        "\n",
        "N = int(input(\"Digite um número inteiro para a sequência de Fibonacci: \"))\n",
        "\n",
        "a, b = 0, 1\n",
        "\n",
        "if N <= 0:\n",
        "    print(\"Por favor, digite um número positivo maior que zero.\")\n",
        "else:\n",
        "    print(\"Sequência de Fibonacci:\")\n",
        "    for _ in range(N):\n",
        "        print(a, end=' ')\n",
        "        a, b = b, a + b"
      ],
      "metadata": {
        "colab": {
          "base_uri": "https://localhost:8080/"
        },
        "id": "_z_ThKGTk2zp",
        "outputId": "1c265253-ba7a-44e8-e77e-9f989d7828e0"
      },
      "execution_count": 6,
      "outputs": [
        {
          "output_type": "stream",
          "name": "stdout",
          "text": [
            "Digite um número inteiro para a sequência de Fibonacci: 0\n",
            "Por favor, digite um número positivo maior que zero.\n"
          ]
        }
      ]
    },
    {
      "cell_type": "code",
      "source": [
        "#2.Problema2\n",
        "\n",
        "print(\"\"\"\\n\n",
        "=== SOMADOR DE NÚMEROS POSITIVOS ===\n",
        "\n",
        "Instruções:\n",
        "1. Digite números um por um (apenas inteiros)\n",
        "2. Quando quiser parar, digite QUALQUER NÚMERO NEGATIVO\n",
        "3. O programa mostrará a soma de todos os números positivos digitados\n",
        "Vamos começar!\\n\n",
        "=====================================================================\\n\"\"\")\n",
        "\n",
        "soma = 0\n",
        "\n",
        "while True:\n",
        "    numero = int(input(\"Digite um número inteiro (negativo para parar): \"))\n",
        "\n",
        "    if numero < 0:\n",
        "        break\n",
        "\n",
        "    soma += numero\n",
        "\n",
        "print(f\"A soma dos números positivos digitados é: {soma}\")"
      ],
      "metadata": {
        "colab": {
          "base_uri": "https://localhost:8080/"
        },
        "id": "YKPUPKWZlkSN",
        "outputId": "e5ec48ad-2b05-4369-a7de-6a8113a01696"
      },
      "execution_count": 12,
      "outputs": [
        {
          "output_type": "stream",
          "name": "stdout",
          "text": [
            "\n",
            "\n",
            "=== SOMADOR DE NÚMEROS POSITIVOS ===\n",
            "\n",
            "Instruções:\n",
            "1. Digite números um por um (apenas inteiros)\n",
            "2. Quando quiser parar, digite QUALQUER NÚMERO NEGATIVO\n",
            "3. O programa mostrará a soma de todos os números positivos digitados\n",
            "Vamos começar!\n",
            "\n",
            "=====================================================================\n",
            "\n",
            "Digite um número inteiro (negativo para parar): 9\n",
            "Digite um número inteiro (negativo para parar): 18\n",
            "Digite um número inteiro (negativo para parar): -9\n",
            "A soma dos números positivos digitados é: 27\n"
          ]
        }
      ]
    },
    {
      "cell_type": "code",
      "source": [
        "#3\n",
        "\n",
        "numeros = []\n",
        "for i in range(10):\n",
        "    numero = int(input(f\"Digite o {i+1}º número inteiro: \"))\n",
        "    numeros.append(numero)\n",
        "\n",
        "print(\"\\n1. Números digitados:\", numeros)\n",
        "print(\"2. Menor número:\", min(numeros))\n",
        "print(\"3. Maior número:\", max(numeros))\n",
        "soma = sum(numeros)\n",
        "print(\"4. Soma dos números:\", soma)\n",
        "print(\"5. Média dos números:\", soma / len(numeros))"
      ],
      "metadata": {
        "colab": {
          "base_uri": "https://localhost:8080/"
        },
        "id": "4KEZeG-poDx0",
        "outputId": "a5c959c7-7184-4a78-ef7a-4dc132ab0481"
      },
      "execution_count": 14,
      "outputs": [
        {
          "output_type": "stream",
          "name": "stdout",
          "text": [
            "Digite o 1º número inteiro: 2\n",
            "Digite o 2º número inteiro: 8\n",
            "Digite o 3º número inteiro: 7\n",
            "Digite o 4º número inteiro: 23\n",
            "Digite o 5º número inteiro: 22\n",
            "Digite o 6º número inteiro: 89\n",
            "Digite o 7º número inteiro: 2\n",
            "Digite o 8º número inteiro: 4\n",
            "Digite o 9º número inteiro: 93\n",
            "Digite o 10º número inteiro: 49\n",
            "\n",
            "1. Números digitados: [2, 8, 7, 23, 22, 89, 2, 4, 93, 49]\n",
            "2. Menor número: 2\n",
            "3. Maior número: 93\n",
            "4. Soma dos números: 299\n",
            "5. Média dos números: 29.9\n"
          ]
        }
      ]
    },
    {
      "cell_type": "code",
      "source": [
        "#4\n",
        "\n",
        "cidades = tuple(input(f\"Digite o nome da {i+1}ª cidade: \") for i in range(5))\n",
        "\n",
        "print(\"\\n1. Cidades armazenadas:\")\n",
        "for cidade in cidades:\n",
        "    print(f\"- {cidade}\")\n",
        "\n",
        "print(\"\\n2. Cidades em ordem alfabética:\")\n",
        "for cidade in sorted(cidades):\n",
        "    print(f\"- {cidade}\")\n",
        "\n",
        "cidades_com_a = sum(1 for cidade in cidades if cidade.lower().startswith('a'))\n",
        "print(f\"\\n3. Quantidade de cidades que começam com 'A': {cidades_com_a}\")"
      ],
      "metadata": {
        "colab": {
          "base_uri": "https://localhost:8080/"
        },
        "id": "HOztlI36oe0r",
        "outputId": "1db15d4f-a1a3-4904-9e22-b7798939a80f"
      },
      "execution_count": 15,
      "outputs": [
        {
          "output_type": "stream",
          "name": "stdout",
          "text": [
            "Digite o nome da 1ª cidade: Cotia\n",
            "Digite o nome da 2ª cidade: Itapevi\n",
            "Digite o nome da 3ª cidade: Araraquara\n",
            "Digite o nome da 4ª cidade: Americana\n",
            "Digite o nome da 5ª cidade: Osasco\n",
            "\n",
            "1. Cidades armazenadas:\n",
            "- Cotia\n",
            "- Itapevi\n",
            "- Araraquara\n",
            "- Americana\n",
            "- Osasco\n",
            "\n",
            "2. Cidades em ordem alfabética:\n",
            "- Americana\n",
            "- Araraquara\n",
            "- Cotia\n",
            "- Itapevi\n",
            "- Osasco\n",
            "\n",
            "3. Quantidade de cidades que começam com 'A': 2\n"
          ]
        }
      ]
    },
    {
      "cell_type": "code",
      "source": [
        "#5\n",
        "\n",
        "alunos_notas = {\n",
        "    \"Mariana\": 8.7,\n",
        "    \"Lucas\": 9.4,\n",
        "    \"Fernanda\": 7.2,\n",
        "    \"Rafael\": 6.5,\n",
        "    \"Isabela\": 9.8\n",
        "}\n",
        "\n",
        "print(\"📊 Boletim Escolar 📊\")\n",
        "print(\"\\n1. Relação de Alunos e Notas:\")\n",
        "for aluno, nota in alunos_notas.items():\n",
        "    print(f\"→ {aluno}: {nota}\")\n",
        "\n",
        "media = sum(alunos_notas.values()) / len(alunos_notas)\n",
        "print(f\"\\n2. Média da Turma: {media:.1f}\")\n",
        "\n",
        "melhor_aluno = max(alunos_notas, key=alunos_notas.get)\n",
        "print(f\"\\n3. Destaque da Turma: {melhor_aluno} com nota {alunos_notas[melhor_aluno]} 🎯\")"
      ],
      "metadata": {
        "colab": {
          "base_uri": "https://localhost:8080/"
        },
        "id": "xBSRhGjBpoQv",
        "outputId": "e6a7d5b8-1e0b-4488-935e-0fc8e5f0c9b0"
      },
      "execution_count": 16,
      "outputs": [
        {
          "output_type": "stream",
          "name": "stdout",
          "text": [
            "📊 Boletim Escolar 📊\n",
            "\n",
            "1. Relação de Alunos e Notas:\n",
            "→ Mariana: 8.7\n",
            "→ Lucas: 9.4\n",
            "→ Fernanda: 7.2\n",
            "→ Rafael: 6.5\n",
            "→ Isabela: 9.8\n",
            "\n",
            "2. Média da Turma: 8.3\n",
            "\n",
            "3. Destaque da Turma: Isabela com nota 9.8 🎯\n"
          ]
        }
      ]
    },
    {
      "cell_type": "code",
      "source": [
        "#6.Problema1\n",
        "\n",
        "palavra = input(\"Digite uma palavra: \").strip().lower()\n",
        "\n",
        "if palavra == palavra[::-1]:\n",
        "    print(\"Sim, é um palindromo\")\n",
        "else:\n",
        "    print(\"Não, não é um palindromo\")"
      ],
      "metadata": {
        "colab": {
          "base_uri": "https://localhost:8080/"
        },
        "id": "LanjnzPsq2O7",
        "outputId": "3efb9658-47f4-4a57-860e-efd076d7076a"
      },
      "execution_count": 20,
      "outputs": [
        {
          "output_type": "stream",
          "name": "stdout",
          "text": [
            "Digite uma palavra: ana\n",
            "Sim, é um palindrome\n"
          ]
        }
      ]
    },
    {
      "cell_type": "code",
      "source": [
        "#6.Problema2\n",
        "\n",
        "precos = [100.0, 50.0, 200.0, 75.0]\n",
        "\n",
        "precos_reajustados = [round(preco * 1.10, 2) for preco in precos]\n",
        "\n",
        "print(\"Preços originais:\", precos)\n",
        "print(\"Preços reajustados (+10%):\", precos_reajustados)"
      ],
      "metadata": {
        "colab": {
          "base_uri": "https://localhost:8080/"
        },
        "id": "ktl3wBIMrRtc",
        "outputId": "de55bc35-0ba3-4a76-c1e6-1a9b651dc62a"
      },
      "execution_count": 24,
      "outputs": [
        {
          "output_type": "stream",
          "name": "stdout",
          "text": [
            "Preços originais: [100.0, 50.0, 200.0, 75.0]\n",
            "Preços reajustados (+10%): [110.0, 55.0, 220.0, 82.5]\n"
          ]
        }
      ]
    },
    {
      "cell_type": "code",
      "source": [
        "#6.Problema3\n",
        "\n",
        "def som(a, b):\n",
        "    return a + b\n",
        "def media(a, b, c):\n",
        "    total = som(a, b, c)\n",
        "    return total / 3\n",
        "resultado = media(5, 10, 15)\n",
        "print(\"A média é:\", resultado)\n",
        "# O erro está na função 'som' que só aceita 2 parâmetros (a, b),\n",
        "# mas é chamada na função 'media' com 3 argumentos (a, b, c)\n",
        "# Causando um TypeError"
      ],
      "metadata": {
        "colab": {
          "base_uri": "https://localhost:8080/",
          "height": 315
        },
        "id": "46EQHFGzsJsG",
        "outputId": "40a9f90e-4938-4fef-8145-47a9ad87df28"
      },
      "execution_count": 25,
      "outputs": [
        {
          "output_type": "error",
          "ename": "TypeError",
          "evalue": "som() takes 2 positional arguments but 3 were given",
          "traceback": [
            "\u001b[0;31m---------------------------------------------------------------------------\u001b[0m",
            "\u001b[0;31mTypeError\u001b[0m                                 Traceback (most recent call last)",
            "\u001b[0;32m<ipython-input-25-b6f292c8ee77>\u001b[0m in \u001b[0;36m<cell line: 0>\u001b[0;34m()\u001b[0m\n\u001b[1;32m      6\u001b[0m     \u001b[0mtotal\u001b[0m \u001b[0;34m=\u001b[0m \u001b[0msom\u001b[0m\u001b[0;34m(\u001b[0m\u001b[0ma\u001b[0m\u001b[0;34m,\u001b[0m \u001b[0mb\u001b[0m\u001b[0;34m,\u001b[0m \u001b[0mc\u001b[0m\u001b[0;34m)\u001b[0m\u001b[0;34m\u001b[0m\u001b[0;34m\u001b[0m\u001b[0m\n\u001b[1;32m      7\u001b[0m     \u001b[0;32mreturn\u001b[0m \u001b[0mtotal\u001b[0m \u001b[0;34m/\u001b[0m \u001b[0;36m3\u001b[0m\u001b[0;34m\u001b[0m\u001b[0;34m\u001b[0m\u001b[0m\n\u001b[0;32m----> 8\u001b[0;31m \u001b[0mresultado\u001b[0m \u001b[0;34m=\u001b[0m \u001b[0mmedia\u001b[0m\u001b[0;34m(\u001b[0m\u001b[0;36m5\u001b[0m\u001b[0;34m,\u001b[0m \u001b[0;36m10\u001b[0m\u001b[0;34m,\u001b[0m \u001b[0;36m15\u001b[0m\u001b[0;34m)\u001b[0m\u001b[0;34m\u001b[0m\u001b[0;34m\u001b[0m\u001b[0m\n\u001b[0m\u001b[1;32m      9\u001b[0m \u001b[0mprint\u001b[0m\u001b[0;34m(\u001b[0m\u001b[0;34m\"A média é:\"\u001b[0m\u001b[0;34m,\u001b[0m \u001b[0mresultado\u001b[0m\u001b[0;34m)\u001b[0m\u001b[0;34m\u001b[0m\u001b[0;34m\u001b[0m\u001b[0m\n",
            "\u001b[0;32m<ipython-input-25-b6f292c8ee77>\u001b[0m in \u001b[0;36mmedia\u001b[0;34m(a, b, c)\u001b[0m\n\u001b[1;32m      4\u001b[0m     \u001b[0;32mreturn\u001b[0m \u001b[0ma\u001b[0m \u001b[0;34m+\u001b[0m \u001b[0mb\u001b[0m\u001b[0;34m\u001b[0m\u001b[0;34m\u001b[0m\u001b[0m\n\u001b[1;32m      5\u001b[0m \u001b[0;32mdef\u001b[0m \u001b[0mmedia\u001b[0m\u001b[0;34m(\u001b[0m\u001b[0ma\u001b[0m\u001b[0;34m,\u001b[0m \u001b[0mb\u001b[0m\u001b[0;34m,\u001b[0m \u001b[0mc\u001b[0m\u001b[0;34m)\u001b[0m\u001b[0;34m:\u001b[0m\u001b[0;34m\u001b[0m\u001b[0;34m\u001b[0m\u001b[0m\n\u001b[0;32m----> 6\u001b[0;31m     \u001b[0mtotal\u001b[0m \u001b[0;34m=\u001b[0m \u001b[0msom\u001b[0m\u001b[0;34m(\u001b[0m\u001b[0ma\u001b[0m\u001b[0;34m,\u001b[0m \u001b[0mb\u001b[0m\u001b[0;34m,\u001b[0m \u001b[0mc\u001b[0m\u001b[0;34m)\u001b[0m\u001b[0;34m\u001b[0m\u001b[0;34m\u001b[0m\u001b[0m\n\u001b[0m\u001b[1;32m      7\u001b[0m     \u001b[0;32mreturn\u001b[0m \u001b[0mtotal\u001b[0m \u001b[0;34m/\u001b[0m \u001b[0;36m3\u001b[0m\u001b[0;34m\u001b[0m\u001b[0;34m\u001b[0m\u001b[0m\n\u001b[1;32m      8\u001b[0m \u001b[0mresultado\u001b[0m \u001b[0;34m=\u001b[0m \u001b[0mmedia\u001b[0m\u001b[0;34m(\u001b[0m\u001b[0;36m5\u001b[0m\u001b[0;34m,\u001b[0m \u001b[0;36m10\u001b[0m\u001b[0;34m,\u001b[0m \u001b[0;36m15\u001b[0m\u001b[0;34m)\u001b[0m\u001b[0;34m\u001b[0m\u001b[0;34m\u001b[0m\u001b[0m\n",
            "\u001b[0;31mTypeError\u001b[0m: som() takes 2 positional arguments but 3 were given"
          ]
        }
      ]
    },
    {
      "cell_type": "code",
      "source": [
        "#6.Problema3-Resolução\n",
        "\n",
        "# O código deve calcular a média de três números (a, b, c) usando:\n",
        "# 1. Uma função 'som' para somar os três valores\n",
        "# 2. Uma função 'media' que chama 'som' e divide o total por 3\n",
        "\n",
        "def som(a, b, c):  #aceita 3 parâmetros\n",
        "    return a + b + c  #soma os três valores\n",
        "\n",
        "def media(a, b, c):\n",
        "    total = som(a, b, c)  #chama corretamente, com 3 argumentos\n",
        "    return total / 3  #calcula a média\n",
        "\n",
        "resultado = media(5, 10, 15)\n",
        "print(\"A média é:\", resultado)"
      ],
      "metadata": {
        "colab": {
          "base_uri": "https://localhost:8080/"
        },
        "id": "VL0jQFb-tIwK",
        "outputId": "c5d004f5-82d1-41b0-888f-b604a0e210f1"
      },
      "execution_count": 26,
      "outputs": [
        {
          "output_type": "stream",
          "name": "stdout",
          "text": [
            "A média é: 10.0\n"
          ]
        }
      ]
    },
    {
      "cell_type": "code",
      "source": [
        "#6.Problema4\n",
        "\n",
        "import random\n",
        "\n",
        "print(\"\"\"\n",
        "╔══════════════════════════════════════════════╗\n",
        "║  🎲  MESTRE DOS NÚMEROS - DESAFIO CÓSMICO!  🎲  ║\n",
        "╚══════════════════════════════════════════════╝\n",
        "\n",
        "🌌 PREPARE-SE PARA UMA MISSÃO EPICAMENTE NUMÉRICA!\n",
        "⚡ SEU OBJETIVO: DESVENDAR O NÚMERO SECRETO ENTRE 1 E 100\n",
        "💥 VOCÊ CONSEGUE DERROTAR O COMPUTADOR? VAMOS DESCOBRIR!\n",
        "\"\"\")\n",
        "\n",
        "numero_secreto = random.randint(1, 100)\n",
        "tentativas = 0\n",
        "recordes = []\n",
        "\n",
        "while True:\n",
        "    print(\"\\n\" + \"🔹\" * 30)\n",
        "    try:\n",
        "        palpite = int(input(\"\"\"\n",
        "🤖💬 \"OUVINDO OS SUSSURROS DOS DEUSES DA MATEMÁTICA...\n",
        "DIGITE SEU PALPITE COM CORAGEM, GUERREIRO(A): \"\"\"))\n",
        "        tentativas += 1\n",
        "\n",
        "        if palpite == numero_secreto:\n",
        "            print(f\"\"\"\n",
        "            🎇🎇🎇 BOOOOOOM! KABUMM! EXPLOSÃO DE CONFETI! 🎇🎇🎇\n",
        "            VOCÊ ACERTOU EM {tentativas} TENTATIVA{'S' if tentativas>1 else ''}!\n",
        "            O NÚMERO SECRETO ERA MESMO {numero_secreto}!\n",
        "            \"\"\")\n",
        "            recordes.append(tentativas)\n",
        "            break\n",
        "        elif palpite < numero_secreto:\n",
        "            print(\"\"\"\n",
        "            🚀💨 \"SEU PALPITE FOI BAIXO QUE NEM FOGUETE COM POUCO COMBUSTÍVEL!\n",
        "            O NÚMERO SECRETO ESTÁ LÁ NO ALTO, TIPO FOGUETE DA NASA!\"\n",
        "            \"\"\")\n",
        "        else:\n",
        "            print(\"\"\"\n",
        "            🌋🔥 \"UAU! SEU PALPITE FOI ALTO QUE NEM VULCÃO EM ERUPÇÃO!\n",
        "            DESCE AÍ, O NÚMERO SECRETO TÁ MAIS PRA BAIXO!\"\n",
        "            \"\"\")\n",
        "\n",
        "    except ValueError:\n",
        "        print(\"\"\"\n",
        "        ❌💥 \"ALERTA DE INVASÃO! ISSO NÃO É UM NÚMERO VÁLIDO!\n",
        "        SÓ ACEITAMOS: 1, 2, 3... ATÉ 10! SEM TRAÇOS, SEM LETRINHAS!\"\n",
        "        \"\"\")\n",
        "\n",
        "print(f\"\"\"\n",
        "🏆🏆🏆 RELATÓRIO FINAL DA MISSÃO 🏆🏆🏆\n",
        "SEU RECORDE: {min(recordes) if recordes else tentativas} TENTATIVA{'S' if min(recordes)>1 else ''}\n",
        "MELHOR DO UNIVERSO: 1 TENTATIVA (DIGA-ME QUANDO CONSEGUIR!)\n",
        "\n",
        "💫 \"O JOGO ACABOU, MAS A LENDA CONTINUA...\n",
        "QUANDO ESTIVER PRONTO PARA OUTRO DESAFIO, ESTAREI AQUI!\"\n",
        "\"\"\")\n",
        "\n",
        "if tentativas == 1:\n",
        "    print(\"\"\"\n",
        "    👽✌ \"INACREDITÁVEL! VOCÊ É UM VERDADEIRO MESTRE DOS NÚMEROS!\n",
        "    SERÁ QUE VOCÊ TEM PODERES PSÍQUICOS???\"\n",
        "    \"\"\")\n",
        "elif tentativas >= 5:\n",
        "    print(\"\"\"\n",
        "    🐢 \"VOCÊ CHEGOU LÁ... MAS QUE TAL TENTAR UM POUCO MAIS RÁPIDO DA PRÓXIMA VEZ?\"\n",
        "    \"\"\")"
      ],
      "metadata": {
        "colab": {
          "base_uri": "https://localhost:8080/"
        },
        "id": "5htY2VAzt9_D",
        "outputId": "b59ccc48-8fb0-44b3-d983-80d465049f8e"
      },
      "execution_count": 1,
      "outputs": [
        {
          "output_type": "stream",
          "name": "stdout",
          "text": [
            "\n",
            "╔══════════════════════════════════════════════╗\n",
            "║  🎲  MESTRE DOS NÚMEROS - DESAFIO CÓSMICO!  🎲  ║\n",
            "╚══════════════════════════════════════════════╝\n",
            "\n",
            "🌌 PREPARE-SE PARA UMA MISSÃO EPICAMENTE NUMÉRICA!\n",
            "⚡ SEU OBJETIVO: DESVENDAR O NÚMERO SECRETO ENTRE 1 E 100\n",
            "💥 VOCÊ CONSEGUE DERROTAR O COMPUTADOR? VAMOS DESCOBRIR!\n",
            "\n",
            "\n",
            "🔹🔹🔹🔹🔹🔹🔹🔹🔹🔹🔹🔹🔹🔹🔹🔹🔹🔹🔹🔹🔹🔹🔹🔹🔹🔹🔹🔹🔹🔹\n",
            "\n",
            "🤖💬 \"OUVINDO OS SUSSURROS DOS DEUSES DA MATEMÁTICA...\n",
            "DIGITE SEU PALPITE COM CORAGEM, GUERREIRO(A): 17\n",
            "\n",
            "            🚀💨 \"SEU PALPITE FOI BAIXO QUE NEM FOGUETE COM POUCO COMBUSTÍVEL!\n",
            "            O NÚMERO SECRETO ESTÁ LÁ NO ALTO, TIPO FOGUETE DA NASA!\"\n",
            "            \n",
            "\n",
            "🔹🔹🔹🔹🔹🔹🔹🔹🔹🔹🔹🔹🔹🔹🔹🔹🔹🔹🔹🔹🔹🔹🔹🔹🔹🔹🔹🔹🔹🔹\n",
            "\n",
            "🤖💬 \"OUVINDO OS SUSSURROS DOS DEUSES DA MATEMÁTICA...\n",
            "DIGITE SEU PALPITE COM CORAGEM, GUERREIRO(A): 87\n",
            "\n",
            "            🌋🔥 \"UAU! SEU PALPITE FOI ALTO QUE NEM VULCÃO EM ERUPÇÃO!\n",
            "            DESCE AÍ, O NÚMERO SECRETO TÁ MAIS PRA BAIXO!\"\n",
            "            \n",
            "\n",
            "🔹🔹🔹🔹🔹🔹🔹🔹🔹🔹🔹🔹🔹🔹🔹🔹🔹🔹🔹🔹🔹🔹🔹🔹🔹🔹🔹🔹🔹🔹\n",
            "\n",
            "🤖💬 \"OUVINDO OS SUSSURROS DOS DEUSES DA MATEMÁTICA...\n",
            "DIGITE SEU PALPITE COM CORAGEM, GUERREIRO(A): 65\n",
            "\n",
            "            🌋🔥 \"UAU! SEU PALPITE FOI ALTO QUE NEM VULCÃO EM ERUPÇÃO!\n",
            "            DESCE AÍ, O NÚMERO SECRETO TÁ MAIS PRA BAIXO!\"\n",
            "            \n",
            "\n",
            "🔹🔹🔹🔹🔹🔹🔹🔹🔹🔹🔹🔹🔹🔹🔹🔹🔹🔹🔹🔹🔹🔹🔹🔹🔹🔹🔹🔹🔹🔹\n",
            "\n",
            "🤖💬 \"OUVINDO OS SUSSURROS DOS DEUSES DA MATEMÁTICA...\n",
            "DIGITE SEU PALPITE COM CORAGEM, GUERREIRO(A): 47\n",
            "\n",
            "            🚀💨 \"SEU PALPITE FOI BAIXO QUE NEM FOGUETE COM POUCO COMBUSTÍVEL!\n",
            "            O NÚMERO SECRETO ESTÁ LÁ NO ALTO, TIPO FOGUETE DA NASA!\"\n",
            "            \n",
            "\n",
            "🔹🔹🔹🔹🔹🔹🔹🔹🔹🔹🔹🔹🔹🔹🔹🔹🔹🔹🔹🔹🔹🔹🔹🔹🔹🔹🔹🔹🔹🔹\n",
            "\n",
            "🤖💬 \"OUVINDO OS SUSSURROS DOS DEUSES DA MATEMÁTICA...\n",
            "DIGITE SEU PALPITE COM CORAGEM, GUERREIRO(A): 58\n",
            "\n",
            "            🚀💨 \"SEU PALPITE FOI BAIXO QUE NEM FOGUETE COM POUCO COMBUSTÍVEL!\n",
            "            O NÚMERO SECRETO ESTÁ LÁ NO ALTO, TIPO FOGUETE DA NASA!\"\n",
            "            \n",
            "\n",
            "🔹🔹🔹🔹🔹🔹🔹🔹🔹🔹🔹🔹🔹🔹🔹🔹🔹🔹🔹🔹🔹🔹🔹🔹🔹🔹🔹🔹🔹🔹\n",
            "\n",
            "🤖💬 \"OUVINDO OS SUSSURROS DOS DEUSES DA MATEMÁTICA...\n",
            "DIGITE SEU PALPITE COM CORAGEM, GUERREIRO(A): 63\n",
            "\n",
            "            🚀💨 \"SEU PALPITE FOI BAIXO QUE NEM FOGUETE COM POUCO COMBUSTÍVEL!\n",
            "            O NÚMERO SECRETO ESTÁ LÁ NO ALTO, TIPO FOGUETE DA NASA!\"\n",
            "            \n",
            "\n",
            "🔹🔹🔹🔹🔹🔹🔹🔹🔹🔹🔹🔹🔹🔹🔹🔹🔹🔹🔹🔹🔹🔹🔹🔹🔹🔹🔹🔹🔹🔹\n",
            "\n",
            "🤖💬 \"OUVINDO OS SUSSURROS DOS DEUSES DA MATEMÁTICA...\n",
            "DIGITE SEU PALPITE COM CORAGEM, GUERREIRO(A): 64\n",
            "\n",
            "            🎇🎇🎇 BOOOOOOM! KABUMM! EXPLOSÃO DE CONFETI! 🎇🎇🎇\n",
            "            VOCÊ ACERTOU EM 7 TENTATIVAS!\n",
            "            O NÚMERO SECRETO ERA MESMO 64!\n",
            "            \n",
            "\n",
            "🏆🏆🏆 RELATÓRIO FINAL DA MISSÃO 🏆🏆🏆\n",
            "SEU RECORDE: 7 TENTATIVAS\n",
            "MELHOR DO UNIVERSO: 1 TENTATIVA (DIGA-ME QUANDO CONSEGUIR!)\n",
            "\n",
            "💫 \"O JOGO ACABOU, MAS A LENDA CONTINUA...\n",
            "QUANDO ESTIVER PRONTO PARA OUTRO DESAFIO, ESTAREI AQUI!\"\n",
            "\n",
            "\n",
            "    🐢 \"VOCÊ CHEGOU LÁ... MAS QUE TAL TENTAR UM POUCO MAIS RÁPIDO DA PRÓXIMA VEZ?\"\n",
            "    \n"
          ]
        }
      ]
    },
    {
      "cell_type": "code",
      "source": [
        "#7.Problema1\n",
        "\n",
        "print(\"\"\"\n",
        "╔══════════════════════════════════════════════╗\n",
        "║  ✨🌴✨  CAÇA AO TESOURO MATRICIAL  ✨🌴✨  ║\n",
        "╚══════════════════════════════════════════════╝\n",
        "\n",
        "Vamos mapear seu território primeiro!\n",
        "\"\"\")\n",
        "\n",
        "while True:\n",
        "    try:\n",
        "        N = int(input(\"🌍 Quantas LINHAS tem seu mapa? (N): \"))\n",
        "        M = int(input(\"🌍 Quantas COLUNAS tem seu mapa? (M): \"))\n",
        "        if N > 0 and M > 0:\n",
        "            break\n",
        "        print(\"🌪️  O mapa precisa ter tamanho positivo! Tente novamente!\")\n",
        "    except ValueError:\n",
        "        print(\"💢 Ei capitão, só valem números inteiros!\")\n",
        "\n",
        "print(f\"\\nAgora vamos esconder tesouros nas {N}x{M} posições!\")\n",
        "\n",
        "mapa_tesouro = []\n",
        "for i in range(N):\n",
        "    linha = []\n",
        "    for j in range(M):\n",
        "        while True:\n",
        "            try:\n",
        "                valor = int(input(f\"💎 Valor na posição ({i+1},{j+1}): \"))\n",
        "                linha.append(valor)\n",
        "                break\n",
        "            except ValueError:\n",
        "                print(\"⚡ Só vale ouro em números inteiros, marinheiro!\")\n",
        "    mapa_tesouro.append(linha)\n",
        "\n",
        "maior_tesouro = mapa_tesouro[0][0]\n",
        "x, y = 0, 0\n",
        "\n",
        "for i in range(N):\n",
        "    for j in range(M):\n",
        "        if mapa_tesouro[i][j] > maior_tesouro:\n",
        "            maior_tesouro = mapa_tesouro[i][j]\n",
        "            x, y = i, j\n",
        "\n",
        "print(f\"\"\"\n",
        "╔══════════════════════════════════════════════╗\n",
        "║              🎊 TESOURO ENCONTRADO! 🎊       ║\n",
        "╠══════════════════════════════════════════════╣\n",
        "║                                              ║\n",
        "║  O maior tesouro vale {maior_tesouro:^5} moedas de ouro!  ║\n",
        "║  Está enterrado na:                          ║\n",
        "║  → 🗺️ Linha {x+1}                              ║\n",
        "║  → 🗺️ Coluna {y+1}                            ║\n",
        "║                                              ║\n",
        "╚══════════════════════════════════════════════╝\n",
        "\"\"\")"
      ],
      "metadata": {
        "colab": {
          "base_uri": "https://localhost:8080/"
        },
        "id": "vyfitAjuwGoi",
        "outputId": "6b92643d-426b-4a92-d2e5-639ad1a1b436"
      },
      "execution_count": 37,
      "outputs": [
        {
          "output_type": "stream",
          "name": "stdout",
          "text": [
            "\n",
            "╔══════════════════════════════════════════════╗\n",
            "║  ✨🌴✨  CAÇA AO TESOURO MATRICIAL  ✨🌴✨  ║\n",
            "╚══════════════════════════════════════════════╝\n",
            "\n",
            "Vamos mapear seu território primeiro!\n",
            "\n",
            "🌍 Quantas LINHAS tem seu mapa? (N): 2\n",
            "🌍 Quantas COLUNAS tem seu mapa? (M): 2\n",
            "\n",
            "Agora vamos esconder tesouros nas 2x2 posições!\n",
            "💎 Valor na posição (1,1): 1\n",
            "💎 Valor na posição (1,2): 2\n",
            "💎 Valor na posição (2,1): 3\n",
            "💎 Valor na posição (2,2): 4\n",
            "\n",
            "╔══════════════════════════════════════════════╗\n",
            "║              🎊 TESOURO ENCONTRADO! 🎊       ║\n",
            "╠══════════════════════════════════════════════╣\n",
            "║                                              ║\n",
            "║  O maior tesouro vale   4   moedas de ouro!  ║\n",
            "║  Está enterrado na:                          ║\n",
            "║  → 🗺️ Linha 2                              ║\n",
            "║  → 🗺️ Coluna 2                            ║\n",
            "║                                              ║\n",
            "╚══════════════════════════════════════════════╝\n",
            "\n"
          ]
        }
      ]
    },
    {
      "cell_type": "code",
      "source": [
        "#7.Problema2-Parte1\n",
        "\n",
        "print(\"\"\"\n",
        "╔══════════════════════════════╗\n",
        "║    🧟‍♂️ MATRIZ APOCALÍPTICA 🧟‍♀️    ║\n",
        "╠══════════════════════════════╣\n",
        "║  Uma criação 3x3 assustadora  ║\n",
        "║  Zeros zumbis dominaram tudo  ║\n",
        "╚══════════════════════════════╝\n",
        "\"\"\")\n",
        "\n",
        "matriz_apocalipse = [[0 for _ in range(3)] for _ in range(3)]\n",
        "\n",
        "print(\"O terror se espalha na matriz:\")\n",
        "for linha in matriz_apocalipse:\n",
        "    print(\" \".join([\"🧟‍♂️\" if num == 0 else f\"👼{num}\" for num in linha]))\n",
        "\n",
        "print(\"\"\"\n",
        "╔══════════════════════════════╗\n",
        "║   ☠️  CUIDADO! ZUMBIZAÇÃO  ☠️   ║\n",
        "╚══════════════════════════════╝\n",
        "Os zeros se transformaram em zumbis!\n",
        "A matriz está completamente dominada!\n",
        "\"\"\")"
      ],
      "metadata": {
        "colab": {
          "base_uri": "https://localhost:8080/"
        },
        "id": "kXlYiVJhzM0t",
        "outputId": "591e66a4-3452-4f7c-c892-2a799c35e3e0"
      },
      "execution_count": 38,
      "outputs": [
        {
          "output_type": "stream",
          "name": "stdout",
          "text": [
            "\n",
            "╔══════════════════════════════╗\n",
            "║    🧟‍♂️ MATRIZ APOCALÍPTICA 🧟‍♀️    ║\n",
            "╠══════════════════════════════╣\n",
            "║  Uma criação 3x3 assustadora  ║\n",
            "║  Zeros zumbis dominaram tudo  ║\n",
            "╚══════════════════════════════╝\n",
            "\n",
            "O terror se espalha na matriz:\n",
            "🧟‍♂️ 🧟‍♂️ 🧟‍♂️\n",
            "🧟‍♂️ 🧟‍♂️ 🧟‍♂️\n",
            "🧟‍♂️ 🧟‍♂️ 🧟‍♂️\n",
            "\n",
            "╔══════════════════════════════╗\n",
            "║   ☠️  CUIDADO! ZUMBIZAÇÃO  ☠️   ║\n",
            "╚══════════════════════════════╝\n",
            "Os zeros se transformaram em zumbis!\n",
            "A matriz está completamente dominada!\n",
            "\n"
          ]
        }
      ]
    },
    {
      "cell_type": "code",
      "source": [
        "#7.Problema2-Parte2\n",
        "\n",
        "import random\n",
        "from time import sleep\n",
        "\n",
        "print(\"\"\"\n",
        "✨🌈✨ MATRIZ MÁGICA AUTO-PREENCHIDA ✨🌈✨\n",
        "\n",
        "Gerando uma matriz 4x4 incrível...\n",
        "\"\"\")\n",
        "\n",
        "sleep(1.5)\n",
        "\n",
        "matriz_magica = [[random.randint(1, 100) for _ in range(4)] for _ in range(4)]\n",
        "\n",
        "print(\"\\n🎉 SUA MATRIZ ESTÁ PRONTA! 🎉\\n\")\n",
        "\n",
        "for i, linha in enumerate(matriz_magica, 1):\n",
        "    print(f\"🌟 LINHA {i}: \", end=\"\")\n",
        "    for num in linha:\n",
        "        print(f\"| {num:3d} \", end=\"\")\n",
        "    print(\"|\")\n",
        "    sleep(0.3)\n",
        "\n",
        "print(\"\\n\" + \"🔹\" * 35)\n",
        "print(\"✨ MATRIZ GERADA COM SUCESSO! ✨\")\n",
        "print(\"🔹\" * 35)"
      ],
      "metadata": {
        "colab": {
          "base_uri": "https://localhost:8080/"
        },
        "id": "VvP2MgDcz_Jb",
        "outputId": "48ffa1a0-ed9c-4f4d-9401-b6049931ecb9"
      },
      "execution_count": 39,
      "outputs": [
        {
          "output_type": "stream",
          "name": "stdout",
          "text": [
            "\n",
            "✨🌈✨ MATRIZ MÁGICA AUTO-PREENCHIDA ✨🌈✨\n",
            "\n",
            "Gerando uma matriz 4x4 incrível...\n",
            "\n",
            "\n",
            "🎉 SUA MATRIZ ESTÁ PRONTA! 🎉\n",
            "\n",
            "🌟 LINHA 1: |  22 |  73 |  78 |  62 |\n",
            "🌟 LINHA 2: |  68 |   6 |  97 |  18 |\n",
            "🌟 LINHA 3: |  70 |  81 |  88 |  79 |\n",
            "🌟 LINHA 4: |  55 |   6 |  65 |  79 |\n",
            "\n",
            "🔹🔹🔹🔹🔹🔹🔹🔹🔹🔹🔹🔹🔹🔹🔹🔹🔹🔹🔹🔹🔹🔹🔹🔹🔹🔹🔹🔹🔹🔹🔹🔹🔹🔹🔹\n",
            "✨ MATRIZ GERADA COM SUCESSO! ✨\n",
            "🔹🔹🔹🔹🔹🔹🔹🔹🔹🔹🔹🔹🔹🔹🔹🔹🔹🔹🔹🔹🔹🔹🔹🔹🔹🔹🔹🔹🔹🔹🔹🔹🔹🔹🔹\n"
          ]
        }
      ]
    }
  ]
}